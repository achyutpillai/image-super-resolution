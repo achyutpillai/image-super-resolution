{
 "cells": [
  {
   "cell_type": "code",
   "execution_count": null,
   "id": "6fda218b-506f-4ab0-83a8-265ad8b60fbc",
   "metadata": {},
   "outputs": [],
   "source": [
    "def upscale_bicubic(lr_dir, output_dir, scale_factor):\n",
    "    \"\"\"\n",
    "    Upscales images in the given low-resolution directory using bicubic interpolation and saves them in the output directory.\n",
    "\n",
    "    Args:\n",
    "        lr_dir (str): Directory containing low-resolution images.\n",
    "        output_dir (str): Directory where the upscaled images will be saved.\n",
    "        scale_factor (float): The factor by which to upscale the images.\n",
    "    \n",
    "    Returns:\n",
    "        None\n",
    "    \"\"\"\n",
    "    # Create output directory if it doesn't exist\n",
    "    os.makedirs(output_dir, exist_ok=True)\n",
    "\n",
    "    # Process each image in the LR directory\n",
    "    lr_images = sorted(glob.glob(os.path.join(lr_dir, '*')))\n",
    "    for img_path in lr_images:\n",
    "        img = Image.open(img_path).convert(\"RGB\")  # Ensure RGB format\n",
    "        new_size = (int(img.width * scale_factor), int(img.height * scale_factor))\n",
    "        upscaled_img = img.resize(new_size, resample=Image.BICUBIC)\n",
    "        \n",
    "        # Save the upscaled image in the output directory\n",
    "        base_name = os.path.basename(img_path)\n",
    "        upscaled_img.save(os.path.join(output_dir, base_name))\n",
    "    \n",
    "    print(f\"Upscaled images saved in: {output_dir}\")\n",
    "\n",
    "scales = [2, 4, 8]\n",
    "for scale in scales:\n",
    "    device = 'cuda' if torch.cuda.is_available() else 'cpu'\n",
    "    output_directory = f'results/bicubic/X{scale}'\n",
    "    lr_directory = f'DIV2K/DIV2K_valid_LR/X{scale}'\n",
    "    upscale_bicubic(lr_directory, output_directory, scale)"
   ]
  }
 ],
 "metadata": {
  "kernelspec": {
   "display_name": "Python 3 (ipykernel)",
   "language": "python",
   "name": "python3"
  },
  "language_info": {
   "codemirror_mode": {
    "name": "ipython",
    "version": 3
   },
   "file_extension": ".py",
   "mimetype": "text/x-python",
   "name": "python",
   "nbconvert_exporter": "python",
   "pygments_lexer": "ipython3",
   "version": "3.11.9"
  }
 },
 "nbformat": 4,
 "nbformat_minor": 5
}
